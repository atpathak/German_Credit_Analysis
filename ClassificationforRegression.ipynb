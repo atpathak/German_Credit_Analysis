{
 "cells": [
  {
   "cell_type": "code",
   "execution_count": 1,
   "metadata": {},
   "outputs": [],
   "source": [
    "import pandas as pd\n",
    "import matplotlib.pyplot as plt\n",
    "import seaborn as sns\n",
    "import numpy as np\n",
    "import numpy.random as nr\n",
    "import math\n",
    "from sklearn import preprocessing\n",
    "import sklearn.model_selection as ms\n",
    "from sklearn import linear_model\n",
    "import sklearn.metrics as sklm\n",
    "\n",
    "%matplotlib inline"
   ]
  },
  {
   "cell_type": "code",
   "execution_count": 2,
   "metadata": {},
   "outputs": [
    {
     "data": {
      "text/plain": [
       "Text(0.5, 0, 'Value of output from linear regression')"
      ]
     },
     "execution_count": 2,
     "metadata": {},
     "output_type": "execute_result"
    },
    {
     "data": {
      "image/png": "[encoded data removed]",
      "text/plain": [
       "<Figure size 432x288 with 1 Axes>"
      ]
     },
     "metadata": {
      "needs_background": "light"
     },
     "output_type": "display_data"
    }
   ],
   "source": [
    "xseq = np.arange(-7, 7, 0.1)\n",
    "logistic = [math.exp(v)/(1 + math.exp(v)) for v in xseq]\n",
    "plt.plot(xseq, logistic, color = 'red')\n",
    "plt.plot([-7,7], [0.5,0.5], color = 'blue')\n",
    "plt.plot([0,0], [0,1], color = 'blue')\n",
    "plt.title('Logistic function for two-class classification')\n",
    "plt.ylabel('log likelihood')\n",
    "plt.xlabel('Value of output from linear regression')"
   ]
  },
  {
   "cell_type": "code",
   "execution_count": 3,
   "metadata": {},
   "outputs": [
    {
     "name": "stdout",
     "output_type": "stream",
     "text": [
      "(1000, 27)\n"
     ]
    },
    {
     "data": {
      "text/html": [
       "<div>\n",
       "<style scoped>\n",
       "    .dataframe tbody tr th:only-of-type {\n",
       "        vertical-align: middle;\n",
       "    }\n",
       "\n",
       "    .dataframe tbody tr th {\n",
       "        vertical-align: top;\n",
       "    }\n",
       "\n",
       "    .dataframe thead th {\n",
       "        text-align: right;\n",
       "    }\n",
       "</style>\n",
       "<table border=\"1\" class=\"dataframe\">\n",
       "  <thead>\n",
       "    <tr style=\"text-align: right;\">\n",
       "      <th></th>\n",
       "      <th>Unnamed: 0</th>\n",
       "      <th>customer_id</th>\n",
       "      <th>checking_account_status</th>\n",
       "      <th>loan_duration_mo</th>\n",
       "      <th>credit_history</th>\n",
       "      <th>purpose</th>\n",
       "      <th>loan_amount</th>\n",
       "      <th>savings_account_balance</th>\n",
       "      <th>time_employed_yrs</th>\n",
       "      <th>payment_pcnt_income</th>\n",
       "      <th>...</th>\n",
       "      <th>number_loans</th>\n",
       "      <th>job_category</th>\n",
       "      <th>dependents</th>\n",
       "      <th>telephone</th>\n",
       "      <th>foreign_worker</th>\n",
       "      <th>bad_credit</th>\n",
       "      <th>dummy</th>\n",
       "      <th>log_loan_duration_mo</th>\n",
       "      <th>log_loan_amount</th>\n",
       "      <th>log_age_yrs</th>\n",
       "    </tr>\n",
       "  </thead>\n",
       "  <tbody>\n",
       "    <tr>\n",
       "      <th>0</th>\n",
       "      <td>0</td>\n",
       "      <td>1122334</td>\n",
       "      <td>&lt; 0 DM</td>\n",
       "      <td>6</td>\n",
       "      <td>critical account - other non-bank loans</td>\n",
       "      <td>radio/television</td>\n",
       "      <td>1169</td>\n",
       "      <td>unknown/none</td>\n",
       "      <td>&gt;= 7 years</td>\n",
       "      <td>4</td>\n",
       "      <td>...</td>\n",
       "      <td>2</td>\n",
       "      <td>skilled</td>\n",
       "      <td>1</td>\n",
       "      <td>yes</td>\n",
       "      <td>yes</td>\n",
       "      <td>0</td>\n",
       "      <td>1.0</td>\n",
       "      <td>1.791759</td>\n",
       "      <td>7.063904</td>\n",
       "      <td>4.204693</td>\n",
       "    </tr>\n",
       "    <tr>\n",
       "      <th>1</th>\n",
       "      <td>1</td>\n",
       "      <td>6156361</td>\n",
       "      <td>0 - 200 DM</td>\n",
       "      <td>48</td>\n",
       "      <td>current loans paid</td>\n",
       "      <td>radio/television</td>\n",
       "      <td>5951</td>\n",
       "      <td>&lt; 100 DM</td>\n",
       "      <td>1 - 4 years</td>\n",
       "      <td>2</td>\n",
       "      <td>...</td>\n",
       "      <td>1</td>\n",
       "      <td>skilled</td>\n",
       "      <td>1</td>\n",
       "      <td>none</td>\n",
       "      <td>yes</td>\n",
       "      <td>1</td>\n",
       "      <td>1.0</td>\n",
       "      <td>3.871201</td>\n",
       "      <td>8.691315</td>\n",
       "      <td>3.091042</td>\n",
       "    </tr>\n",
       "    <tr>\n",
       "      <th>2</th>\n",
       "      <td>2</td>\n",
       "      <td>2051359</td>\n",
       "      <td>none</td>\n",
       "      <td>12</td>\n",
       "      <td>critical account - other non-bank loans</td>\n",
       "      <td>education</td>\n",
       "      <td>2096</td>\n",
       "      <td>&lt; 100 DM</td>\n",
       "      <td>4 - 7 years</td>\n",
       "      <td>2</td>\n",
       "      <td>...</td>\n",
       "      <td>1</td>\n",
       "      <td>unskilled-resident</td>\n",
       "      <td>2</td>\n",
       "      <td>none</td>\n",
       "      <td>yes</td>\n",
       "      <td>0</td>\n",
       "      <td>1.0</td>\n",
       "      <td>2.484907</td>\n",
       "      <td>7.647786</td>\n",
       "      <td>3.891820</td>\n",
       "    </tr>\n",
       "    <tr>\n",
       "      <th>3</th>\n",
       "      <td>3</td>\n",
       "      <td>8740590</td>\n",
       "      <td>&lt; 0 DM</td>\n",
       "      <td>42</td>\n",
       "      <td>current loans paid</td>\n",
       "      <td>furniture/equipment</td>\n",
       "      <td>7882</td>\n",
       "      <td>&lt; 100 DM</td>\n",
       "      <td>4 - 7 years</td>\n",
       "      <td>2</td>\n",
       "      <td>...</td>\n",
       "      <td>1</td>\n",
       "      <td>skilled</td>\n",
       "      <td>2</td>\n",
       "      <td>none</td>\n",
       "      <td>yes</td>\n",
       "      <td>0</td>\n",
       "      <td>1.0</td>\n",
       "      <td>3.737670</td>\n",
       "      <td>8.972337</td>\n",
       "      <td>3.806662</td>\n",
       "    </tr>\n",
       "    <tr>\n",
       "      <th>4</th>\n",
       "      <td>4</td>\n",
       "      <td>3924540</td>\n",
       "      <td>&lt; 0 DM</td>\n",
       "      <td>24</td>\n",
       "      <td>past payment delays</td>\n",
       "      <td>car (new)</td>\n",
       "      <td>4870</td>\n",
       "      <td>&lt; 100 DM</td>\n",
       "      <td>1 - 4 years</td>\n",
       "      <td>3</td>\n",
       "      <td>...</td>\n",
       "      <td>2</td>\n",
       "      <td>skilled</td>\n",
       "      <td>2</td>\n",
       "      <td>none</td>\n",
       "      <td>yes</td>\n",
       "      <td>1</td>\n",
       "      <td>1.0</td>\n",
       "      <td>3.178054</td>\n",
       "      <td>8.490849</td>\n",
       "      <td>3.970292</td>\n",
       "    </tr>\n",
       "  </tbody>\n",
       "</table>\n",
       "<p>5 rows × 27 columns</p>\n",
       "</div>"
      ],
      "text/plain": [
       "   Unnamed: 0  customer_id checking_account_status  loan_duration_mo  \\\n",
       "0           0      1122334                  < 0 DM                 6   \n",
       "1           1      6156361              0 - 200 DM                48   \n",
       "2           2      2051359                    none                12   \n",
       "3           3      8740590                  < 0 DM                42   \n",
       "4           4      3924540                  < 0 DM                24   \n",
       "\n",
       "                            credit_history              purpose  loan_amount  \\\n",
       "0  critical account - other non-bank loans     radio/television         1169   \n",
       "1                       current loans paid     radio/television         5951   \n",
       "2  critical account - other non-bank loans            education         2096   \n",
       "3                       current loans paid  furniture/equipment         7882   \n",
       "4                      past payment delays            car (new)         4870   \n",
       "\n",
       "  savings_account_balance time_employed_yrs  payment_pcnt_income  ...  \\\n",
       "0            unknown/none        >= 7 years                    4  ...   \n",
       "1                < 100 DM       1 - 4 years                    2  ...   \n",
       "2                < 100 DM       4 - 7 years                    2  ...   \n",
       "3                < 100 DM       4 - 7 years                    2  ...   \n",
       "4                < 100 DM       1 - 4 years                    3  ...   \n",
       "\n",
       "  number_loans        job_category  dependents telephone  foreign_worker  \\\n",
       "0            2             skilled           1       yes             yes   \n",
       "1            1             skilled           1      none             yes   \n",
       "2            1  unskilled-resident           2      none             yes   \n",
       "3            1             skilled           2      none             yes   \n",
       "4            2             skilled           2      none             yes   \n",
       "\n",
       "  bad_credit dummy  log_loan_duration_mo log_loan_amount  log_age_yrs  \n",
       "0          0   1.0              1.791759        7.063904     4.204693  \n",
       "1          1   1.0              3.871201        8.691315     3.091042  \n",
       "2          0   1.0              2.484907        7.647786     3.891820  \n",
       "3          0   1.0              3.737670        8.972337     3.806662  \n",
       "4          1   1.0              3.178054        8.490849     3.970292  \n",
       "\n",
       "[5 rows x 27 columns]"
      ]
     },
     "execution_count": 3,
     "metadata": {},
     "output_type": "execute_result"
    }
   ],
   "source": [
    "credit = pd.read_csv('German_Credit_Preped.csv')\n",
    "print(credit.shape)\n",
    "credit.head()"
   ]
  },
  {
   "cell_type": "code",
   "execution_count": 4,
   "metadata": {},
   "outputs": [
    {
     "name": "stdout",
     "output_type": "stream",
     "text": [
      "            credit_history\n",
      "bad_credit                \n",
      "0                      700\n",
      "1                      300\n"
     ]
    }
   ],
   "source": [
    "credit_counts = credit[['credit_history', 'bad_credit']].groupby('bad_credit').count()\n",
    "print(credit_counts)"
   ]
  },
  {
   "cell_type": "code",
   "execution_count": 5,
   "metadata": {},
   "outputs": [
    {
     "name": "stdout",
     "output_type": "stream",
     "text": [
      "[0 1 0 0 1 0 0 0 0 1 1 1 0 1 0 1 0 0 1 0 0 0 0 0 0 0 0 0 0 1 0 0 0 0 0 1 0\n",
      " 1 0 0 0 0 0 0 1 0 0 0 0 0 0 0 0 0 1 0 1 0 0 1 0 0 1 1 0 0 0 0 1 0 0 0 0 0\n",
      " 1 0 1 0 0 0 1 0 0 0 0 0 0 1 0 1 0 0 1 0 0 1 0 0 0 0 0 0 0 0 0 1 1 0 0 0 0\n",
      " 1 0 0 0 1 0 0 1 0 1 0 1 0 0 0 1 0 0 1 0 1 0 1 0 0 0 0 0 1 0 0 0 0 0 1 0 0\n",
      " 0 0 0 0 0 0 0 0 0 1 0 0 0 0 0 0 0 0 0 0 1 0 0 1 1 0 1 0 1 1 0 0 0 0 1 1 1\n",
      " 0 1 0 1 0 1 0 1 1 1 0 1 1 0 1 0 1 0 0 0 1 0 0 0 0 0 0 0 0 1 1 0 0 0 0 0 0\n",
      " 0 0 0 0 0 0 1 1 1 0 1 0 0 0 0 1 1 1 0 0 1 0 0 1 0 0 0 0 0 0 1 0 0 1 0 0 0\n",
      " 0 1 0 0 0 0 0 0 0 1 0 0 1 0 0 0 0 1 1 0 0 0 1 0 0 0 0 0 0 0 0 0 0 1 0 1 0\n",
      " 0 0 1 0 0 0 0 0 1 1 0 1 0 0 1 1 0 0 0 0 1 0 1 0 0 0 0 1 1 0 0 0 0 0 0 0 0\n",
      " 0 1 1 1 1 1 0 1 0 0 0 0 0 0 0 0 0 0 0 1 0 1 0 1 0 1 0 1 0 1 0 0 0 0 1 0 0\n",
      " 0 1 0 0 0 0 0 1 1 0 0 1 0 0 1 0 0 0 0 0 0 0 0 0 0 0 0 0 0 0 0 1 0 0 0 1 0\n",
      " 0 1 0 0 0 1 0 0 1 0 1 0 1 0 0 1 0 0 0 0 1 0 0 0 0 1 0 1 0 0 0 1 0 0 0 1 0\n",
      " 0 0 1 1 0 1 0 0 1 0 0 0 0 1 0 0 1 0 0 0 0 0 0 0 0 1 0 0 0 1 1 1 0 1 1 0 0\n",
      " 0 0 0 0 0 0 0 1 0 0 0 0 0 0 1 0 0 0 1 1 0 0 0 1 0 0 1 1 1 0 1 0 0 1 0 0 0\n",
      " 0 0 0 1 0 0 0 1 1 0 0 0 0 1 0 0 1 0 0 0 1 0 0 1 0 1 0 1 1 0 1 0 0 1 0 0 0\n",
      " 1 0 0 1 1 1 1 1 0 1 0 1 0 0 1 0 0 1 1 0 0 0 0 0 0 0 1 0 1 0 0 1 0 1 0 0 1\n",
      " 1 0 0 0 1 1 1 1 1 1 0 0 1 1 0 0 0 1 0 0 1 1 0 0 1 0 0 0 1 0 0 1 1 0 1 0 0\n",
      " 1 0 0 0 1 0 1 1 0 0 0 0 1 1 0 1 0 0 1 0 1 1 1 0 1 1 1 0 0 1 0 0 0 0 1 0 0\n",
      " 0 0 0 0 1 0 0 0 0 0 0 0 1 0 0 1 0 0 0 0 0 0 0 0 0 0 0 0 0 0 0 0 0 0 0 0 0\n",
      " 0 1 1 0 0 0 0 1 1 0 0 0 1 0 0 1 0 0 0 0 0 1 1 1 0 1 0 0 1 1 0 0 1 0 0 0 0\n",
      " 1 0 0 1 0 0 0 0 0 0 0 1 0 0 1 0 0 1 1 1 1 0 1 0 1 0 1 0 0 0 0 1 0 0 0 1 0\n",
      " 0 0 0 1 0 0 1 0 0 0 0 1 1 1 0 0 0 0 0 1 0 0 0 0 0 0 0 0 1 0 0 0 1 0 0 1 1\n",
      " 1 0 0 0 0 1 0 0 1 0 0 0 1 1 1 0 0 1 1 0 1 1 0 0 0 0 1 0 1 0 0 0 1 0 0 1 1\n",
      " 0 0 1 0 0 0 0 1 0 0 1 1 0 1 0 0 0 0 0 0 0 0 0 0 0 0 0 1 0 0 0 0 0 1 1 0 1\n",
      " 0 0 0 0 0 0 0 0 0 0 0 1 1 0 0 0 0 0 0 0 0 0 0 1 0 0 1 1 0 1 1 1 0 0 1 0 1\n",
      " 1 0 1 0 0 0 1 0 0 0 1 1 0 1 0 0 0 0 0 0 0 1 0 1 1 0 1 1 1 0 0 0 0 1 0 0 0\n",
      " 0 1 0 0 1 0 0 0 0 0 1 1 0 0 0 0 1 1 1 1 0 1 0 0 0 0 0 0 0 0 0 0 0 0 0 0 1\n",
      " 0]\n"
     ]
    }
   ],
   "source": [
    "labels = np.array(credit['bad_credit'])\n",
    "print(labels)"
   ]
  },
  {
   "cell_type": "code",
   "execution_count": 6,
   "metadata": {},
   "outputs": [
    {
     "name": "stdout",
     "output_type": "stream",
     "text": [
      "(1000, 31)\n",
      "[[0. 1. 0. 0. 0. 1. 0. 0. 0. 0. 0. 0. 0. 0. 0. 0. 1. 0. 0. 0. 0. 0. 1. 0.\n",
      "  0. 0. 1. 0. 0. 1. 0.]\n",
      " [1. 0. 0. 0. 0. 0. 1. 0. 0. 0. 0. 0. 0. 0. 0. 0. 1. 0. 0. 1. 0. 0. 0. 0.\n",
      "  1. 0. 0. 0. 0. 1. 0.]]\n"
     ]
    }
   ],
   "source": [
    "def encode_string(cat_features):\n",
    "    ## First encode the strings to numeric categories\n",
    "    enc = preprocessing.LabelEncoder()\n",
    "    enc.fit(cat_features)\n",
    "    enc_cat_features = enc.transform(cat_features)\n",
    "    ## Now, apply one hot encoding\n",
    "    ohe = preprocessing.OneHotEncoder()\n",
    "    encoded = ohe.fit(enc_cat_features.reshape(-1,1))\n",
    "    return encoded.transform(enc_cat_features.reshape(-1,1)).toarray()\n",
    "\n",
    "categorical_columns = ['credit_history', 'purpose', 'gender_status', \n",
    "                       'time_in_residence', 'property']\n",
    "\n",
    "Features = encode_string(credit['checking_account_status'])\n",
    "for col in categorical_columns:\n",
    "    temp = encode_string(credit[col])\n",
    "    Features = np.concatenate([Features, temp], axis = 1)\n",
    "\n",
    "print(Features.shape)\n",
    "print(Features[:2, :])"
   ]
  },
  {
   "cell_type": "code",
   "execution_count": 7,
   "metadata": {},
   "outputs": [
    {
     "name": "stdout",
     "output_type": "stream",
     "text": [
      "(1000, 35)\n",
      "[[0.000e+00 1.000e+00 0.000e+00 0.000e+00 0.000e+00 1.000e+00 0.000e+00\n",
      "  0.000e+00 0.000e+00 0.000e+00 0.000e+00 0.000e+00 0.000e+00 0.000e+00\n",
      "  0.000e+00 0.000e+00 1.000e+00 0.000e+00 0.000e+00 0.000e+00 0.000e+00\n",
      "  0.000e+00 1.000e+00 0.000e+00 0.000e+00 0.000e+00 1.000e+00 0.000e+00\n",
      "  0.000e+00 1.000e+00 0.000e+00 6.000e+00 1.169e+03 4.000e+00 6.700e+01]\n",
      " [1.000e+00 0.000e+00 0.000e+00 0.000e+00 0.000e+00 0.000e+00 1.000e+00\n",
      "  0.000e+00 0.000e+00 0.000e+00 0.000e+00 0.000e+00 0.000e+00 0.000e+00\n",
      "  0.000e+00 0.000e+00 1.000e+00 0.000e+00 0.000e+00 1.000e+00 0.000e+00\n",
      "  0.000e+00 0.000e+00 0.000e+00 1.000e+00 0.000e+00 0.000e+00 0.000e+00\n",
      "  0.000e+00 1.000e+00 0.000e+00 4.800e+01 5.951e+03 2.000e+00 2.200e+01]]\n"
     ]
    }
   ],
   "source": [
    "Features = np.concatenate([Features, np.array(credit[['loan_duration_mo', 'loan_amount', \n",
    "                            'payment_pcnt_income', 'age_yrs']])], axis = 1)\n",
    "print(Features.shape)\n",
    "print(Features[:2, :])"
   ]
  },
  {
   "cell_type": "code",
   "execution_count": 8,
   "metadata": {},
   "outputs": [],
   "source": [
    "nr.seed(9988)\n",
    "indx = range(Features.shape[0])\n",
    "indx = ms.train_test_split(indx, test_size = 300)\n",
    "X_train = Features[indx[0],:]\n",
    "y_train = np.ravel(labels[indx[0]])\n",
    "X_test = Features[indx[1],:]\n",
    "y_test = np.ravel(labels[indx[1]])"
   ]
  },
  {
   "cell_type": "code",
   "execution_count": 9,
   "metadata": {},
   "outputs": [
    {
     "data": {
      "text/plain": [
       "array([[ 1.00000000e+00,  0.00000000e+00,  0.00000000e+00,\n",
       "         0.00000000e+00,  0.00000000e+00,  1.00000000e+00,\n",
       "         0.00000000e+00,  0.00000000e+00,  0.00000000e+00,\n",
       "         0.00000000e+00,  0.00000000e+00,  0.00000000e+00,\n",
       "         0.00000000e+00,  0.00000000e+00,  0.00000000e+00,\n",
       "         0.00000000e+00,  1.00000000e+00,  0.00000000e+00,\n",
       "         0.00000000e+00,  0.00000000e+00,  0.00000000e+00,\n",
       "         0.00000000e+00,  1.00000000e+00,  0.00000000e+00,\n",
       "         1.00000000e+00,  0.00000000e+00,  0.00000000e+00,\n",
       "         0.00000000e+00,  0.00000000e+00,  1.00000000e+00,\n",
       "         0.00000000e+00,  3.90000000e+01,  4.93300000e+03,\n",
       "         2.00000000e+00, -9.33823618e-01],\n",
       "       [ 0.00000000e+00,  1.00000000e+00,  0.00000000e+00,\n",
       "         0.00000000e+00,  0.00000000e+00,  0.00000000e+00,\n",
       "         1.00000000e+00,  0.00000000e+00,  0.00000000e+00,\n",
       "         0.00000000e+00,  0.00000000e+00,  0.00000000e+00,\n",
       "         0.00000000e+00,  0.00000000e+00,  1.00000000e+00,\n",
       "         0.00000000e+00,  0.00000000e+00,  0.00000000e+00,\n",
       "         0.00000000e+00,  1.00000000e+00,  0.00000000e+00,\n",
       "         0.00000000e+00,  0.00000000e+00,  0.00000000e+00,\n",
       "         1.00000000e+00,  0.00000000e+00,  0.00000000e+00,\n",
       "         1.00000000e+00,  0.00000000e+00,  0.00000000e+00,\n",
       "         0.00000000e+00,  2.40000000e+01,  7.72100000e+03,\n",
       "         1.00000000e+00, -4.95232278e-01]])"
      ]
     },
     "execution_count": 9,
     "metadata": {},
     "output_type": "execute_result"
    }
   ],
   "source": [
    "scaler = preprocessing.StandardScaler().fit(X_train[:,34:])\n",
    "X_train[:,34:] = scaler.transform(X_train[:,34:])\n",
    "X_test[:,34:] = scaler.transform(X_test[:,34:])\n",
    "X_train[:2,]"
   ]
  },
  {
   "cell_type": "code",
   "execution_count": 10,
   "metadata": {},
   "outputs": [
    {
     "name": "stderr",
     "output_type": "stream",
     "text": [
      "/Users/atpathak/opt/miniconda3/lib/python3.7/site-packages/sklearn/linear_model/_logistic.py:940: ConvergenceWarning: lbfgs failed to converge (status=1):\n",
      "STOP: TOTAL NO. of ITERATIONS REACHED LIMIT.\n",
      "\n",
      "Increase the number of iterations (max_iter) or scale the data as shown in:\n",
      "    https://scikit-learn.org/stable/modules/preprocessing.html\n",
      "Please also refer to the documentation for alternative solver options:\n",
      "    https://scikit-learn.org/stable/modules/linear_model.html#logistic-regression\n",
      "  extra_warning_msg=_LOGISTIC_SOLVER_CONVERGENCE_MSG)\n"
     ]
    },
    {
     "data": {
      "text/plain": [
       "LogisticRegression(C=1.0, class_weight=None, dual=False, fit_intercept=True,\n",
       "                   intercept_scaling=1, l1_ratio=None, max_iter=100,\n",
       "                   multi_class='auto', n_jobs=None, penalty='l2',\n",
       "                   random_state=None, solver='lbfgs', tol=0.0001, verbose=0,\n",
       "                   warm_start=False)"
      ]
     },
     "execution_count": 10,
     "metadata": {},
     "output_type": "execute_result"
    }
   ],
   "source": [
    "logistic_mod = linear_model.LogisticRegression() \n",
    "logistic_mod.fit(X_train, y_train)"
   ]
  },
  {
   "cell_type": "code",
   "execution_count": 11,
   "metadata": {},
   "outputs": [
    {
     "name": "stdout",
     "output_type": "stream",
     "text": [
      "[-0.61225763]\n",
      "[[ 4.30955757e-02  8.41828809e-01 -1.31538582e-01 -1.35722623e+00\n",
      "   2.41146798e-01 -8.30219241e-01 -2.29731908e-01  2.73804482e-01\n",
      "  -5.88405561e-02 -1.60646370e-02  3.19665539e-01 -2.87522676e-01\n",
      "   2.35383394e-02  6.03497991e-02 -7.03213129e-02 -1.10041241e-02\n",
      "  -5.80735982e-01 -4.22183477e-03 -3.75235361e-02 -8.66409642e-02\n",
      "   2.93685383e-02 -1.16088748e-01 -4.30479251e-01 -3.08395139e-01\n",
      "   3.47407029e-02 -2.48765944e-01 -8.14200441e-02 -1.79278618e-01\n",
      "  -9.72585026e-02 -5.83071156e-01  2.55767851e-01  2.36520317e-02\n",
      "   2.15795465e-05  1.16811151e-01 -1.57077856e-01]]\n"
     ]
    }
   ],
   "source": [
    "print(logistic_mod.intercept_)\n",
    "print(logistic_mod.coef_)"
   ]
  },
  {
   "cell_type": "code",
   "execution_count": 12,
   "metadata": {},
   "outputs": [
    {
     "name": "stdout",
     "output_type": "stream",
     "text": [
      "[[0.8879345  0.1120655 ]\n",
      " [0.39086741 0.60913259]\n",
      " [0.96338593 0.03661407]\n",
      " [0.28728388 0.71271612]\n",
      " [0.63160666 0.36839334]\n",
      " [0.95334018 0.04665982]\n",
      " [0.91615557 0.08384443]\n",
      " [0.54206422 0.45793578]\n",
      " [0.91398789 0.08601211]\n",
      " [0.90700446 0.09299554]\n",
      " [0.51779332 0.48220668]\n",
      " [0.44175052 0.55824948]\n",
      " [0.4717232  0.5282768 ]\n",
      " [0.7711974  0.2288026 ]\n",
      " [0.31594898 0.68405102]]\n"
     ]
    }
   ],
   "source": [
    "probabilities = logistic_mod.predict_proba(X_test)\n",
    "print(probabilities[:15,:])"
   ]
  },
  {
   "cell_type": "code",
   "execution_count": 13,
   "metadata": {},
   "outputs": [
    {
     "name": "stdout",
     "output_type": "stream",
     "text": [
      "[0 1 0 1 0 0 0 0 0 0 0 1 1 0 1]\n",
      "[0 0 0 1 0 0 0 0 1 0 0 1 1 0 1]\n"
     ]
    }
   ],
   "source": [
    "def score_model(probs, threshold):\n",
    "    return np.array([1 if x > threshold else 0 for x in probs[:,1]])\n",
    "scores = score_model(probabilities, 0.5)\n",
    "print(np.array(scores[:15]))\n",
    "print(y_test[:15])"
   ]
  },
  {
   "cell_type": "code",
   "execution_count": 14,
   "metadata": {},
   "outputs": [
    {
     "name": "stdout",
     "output_type": "stream",
     "text": [
      "                 Confusion matrix\n",
      "                 Score positive    Score negative\n",
      "Actual positive       175                37\n",
      "Actual negative        37                51\n",
      "\n",
      "Accuracy  0.75\n",
      " \n",
      "           Positive      Negative\n",
      "Num case      212            88\n",
      "Precision    0.83          0.58\n",
      "Recall       0.83          0.58\n",
      "F1           0.83          0.58\n"
     ]
    }
   ],
   "source": [
    "def print_metrics(labels, scores):\n",
    "    metrics = sklm.precision_recall_fscore_support(labels, scores)\n",
    "    conf = sklm.confusion_matrix(labels, scores)\n",
    "    print('                 Confusion matrix')\n",
    "    print('                 Score positive    Score negative')\n",
    "    print('Actual positive    %6d' % conf[0,0] + '             %5d' % conf[0,1])\n",
    "    print('Actual negative    %6d' % conf[1,0] + '             %5d' % conf[1,1])\n",
    "    print('')\n",
    "    print('Accuracy  %0.2f' % sklm.accuracy_score(labels, scores))\n",
    "    print(' ')\n",
    "    print('           Positive      Negative')\n",
    "    print('Num case   %6d' % metrics[3][0] + '        %6d' % metrics[3][1])\n",
    "    print('Precision  %6.2f' % metrics[0][0] + '        %6.2f' % metrics[0][1])\n",
    "    print('Recall     %6.2f' % metrics[1][0] + '        %6.2f' % metrics[1][1])\n",
    "    print('F1         %6.2f' % metrics[2][0] + '        %6.2f' % metrics[2][1])\n",
    "\n",
    "\n",
    "    \n",
    "print_metrics(y_test, scores)"
   ]
  },
  {
   "cell_type": "code",
   "execution_count": 15,
   "metadata": {},
   "outputs": [
    {
     "data": {
      "image/png": "[encoded data removed]",
      "text/plain": [
       "<Figure size 432x288 with 1 Axes>"
      ]
     },
     "metadata": {
      "needs_background": "light"
     },
     "output_type": "display_data"
    }
   ],
   "source": [
    "def plot_auc(labels, probs):\n",
    "    ## Compute the false positive rate, true positive rate\n",
    "    ## and threshold along with the AUC\n",
    "    fpr, tpr, threshold = sklm.roc_curve(labels, probs[:,1])\n",
    "    auc = sklm.auc(fpr, tpr)\n",
    "    \n",
    "    ## Plot the result\n",
    "    plt.title('Receiver Operating Characteristic')\n",
    "    plt.plot(fpr, tpr, color = 'orange', label = 'AUC = %0.2f' % auc)\n",
    "    plt.legend(loc = 'lower right')\n",
    "    plt.plot([0, 1], [0, 1],'r--')\n",
    "    plt.xlim([0, 1])\n",
    "    plt.ylim([0, 1])\n",
    "    plt.ylabel('True Positive Rate')\n",
    "    plt.xlabel('False Positive Rate')\n",
    "    plt.show()\n",
    "    \n",
    "plot_auc(y_test, probabilities)"
   ]
  },
  {
   "cell_type": "code",
   "execution_count": 16,
   "metadata": {},
   "outputs": [
    {
     "name": "stderr",
     "output_type": "stream",
     "text": [
      "/Users/atpathak/opt/miniconda3/lib/python3.7/site-packages/sklearn/metrics/_classification.py:1272: UndefinedMetricWarning: Precision and F-score are ill-defined and being set to 0.0 in labels with no predicted samples. Use `zero_division` parameter to control this behavior.\n",
      "  _warn_prf(average, modifier, msg_start, len(result))\n"
     ]
    },
    {
     "name": "stdout",
     "output_type": "stream",
     "text": [
      "                 Confusion matrix\n",
      "                 Score positive    Score negative\n",
      "Actual positive       212                 0\n",
      "Actual negative        88                 0\n",
      "\n",
      "Accuracy  0.71\n",
      " \n",
      "           Positive      Negative\n",
      "Num case      212            88\n",
      "Precision    0.71          0.00\n",
      "Recall       1.00          0.00\n",
      "F1           0.83          0.00\n"
     ]
    },
    {
     "data": {
      "image/png": "[encoded data removed]",
      "text/plain": [
       "<Figure size 432x288 with 1 Axes>"
      ]
     },
     "metadata": {
      "needs_background": "light"
     },
     "output_type": "display_data"
    }
   ],
   "source": [
    "probs_positive = np.concatenate((np.ones((probabilities.shape[0], 1)), \n",
    "                                 np.zeros((probabilities.shape[0], 1))),\n",
    "                                 axis = 1)\n",
    "scores_positive = score_model(probs_positive, 0.5)\n",
    "print_metrics(y_test, scores_positive)  \n",
    "plot_auc(y_test, probs_positive)"
   ]
  },
  {
   "cell_type": "code",
   "execution_count": 17,
   "metadata": {},
   "outputs": [
    {
     "name": "stderr",
     "output_type": "stream",
     "text": [
      "/Users/atpathak/opt/miniconda3/lib/python3.7/site-packages/sklearn/linear_model/_logistic.py:940: ConvergenceWarning: lbfgs failed to converge (status=1):\n",
      "STOP: TOTAL NO. of ITERATIONS REACHED LIMIT.\n",
      "\n",
      "Increase the number of iterations (max_iter) or scale the data as shown in:\n",
      "    https://scikit-learn.org/stable/modules/preprocessing.html\n",
      "Please also refer to the documentation for alternative solver options:\n",
      "    https://scikit-learn.org/stable/modules/linear_model.html#logistic-regression\n",
      "  extra_warning_msg=_LOGISTIC_SOLVER_CONVERGENCE_MSG)\n"
     ]
    },
    {
     "data": {
      "text/plain": [
       "LogisticRegression(C=1.0, class_weight={0: 0.45, 1: 0.55}, dual=False,\n",
       "                   fit_intercept=True, intercept_scaling=1, l1_ratio=None,\n",
       "                   max_iter=100, multi_class='auto', n_jobs=None, penalty='l2',\n",
       "                   random_state=None, solver='lbfgs', tol=0.0001, verbose=0,\n",
       "                   warm_start=False)"
      ]
     },
     "execution_count": 17,
     "metadata": {},
     "output_type": "execute_result"
    }
   ],
   "source": [
    "logistic_mod = linear_model.LogisticRegression(class_weight = {0:0.45, 1:0.55}) \n",
    "logistic_mod.fit(X_train, y_train)"
   ]
  },
  {
   "cell_type": "code",
   "execution_count": 18,
   "metadata": {},
   "outputs": [
    {
     "name": "stdout",
     "output_type": "stream",
     "text": [
      "[[0.81149089 0.18850911]\n",
      " [0.3503178  0.6496822 ]\n",
      " [0.93002071 0.06997929]\n",
      " [0.29273608 0.70726392]\n",
      " [0.53279492 0.46720508]\n",
      " [0.95775916 0.04224084]\n",
      " [0.9175878  0.0824122 ]\n",
      " [0.53099099 0.46900901]\n",
      " [0.84984399 0.15015601]\n",
      " [0.86943634 0.13056366]\n",
      " [0.52935102 0.47064898]\n",
      " [0.36987137 0.63012863]\n",
      " [0.46255562 0.53744438]\n",
      " [0.69996087 0.30003913]\n",
      " [0.36575211 0.63424789]]\n"
     ]
    }
   ],
   "source": [
    "probabilities = logistic_mod.predict_proba(X_test)\n",
    "print(probabilities[:15,:])"
   ]
  },
  {
   "cell_type": "code",
   "execution_count": 19,
   "metadata": {},
   "outputs": [
    {
     "name": "stdout",
     "output_type": "stream",
     "text": [
      "                 Confusion matrix\n",
      "                 Score positive    Score negative\n",
      "Actual positive       173                39\n",
      "Actual negative        35                53\n",
      "\n",
      "Accuracy  0.75\n",
      " \n",
      "           Positive      Negative\n",
      "Num case      212            88\n",
      "Precision    0.83          0.58\n",
      "Recall       0.82          0.60\n",
      "F1           0.82          0.59\n"
     ]
    },
    {
     "data": {
      "image/png": "[encoded data removed]",
      "text/plain": [
       "<Figure size 432x288 with 1 Axes>"
      ]
     },
     "metadata": {
      "needs_background": "light"
     },
     "output_type": "display_data"
    }
   ],
   "source": [
    "scores = score_model(probabilities, 0.5)\n",
    "print_metrics(y_test, scores)  \n",
    "plot_auc(y_test, probabilities)"
   ]
  },
  {
   "cell_type": "code",
   "execution_count": 20,
   "metadata": {},
   "outputs": [
    {
     "name": "stdout",
     "output_type": "stream",
     "text": [
      "\n",
      "For threshold = 0.45\n",
      "                 Confusion matrix\n",
      "                 Score positive    Score negative\n",
      "Actual positive       161                51\n",
      "Actual negative        30                58\n",
      "\n",
      "Accuracy  0.73\n",
      " \n",
      "           Positive      Negative\n",
      "Num case      212            88\n",
      "Precision    0.84          0.53\n",
      "Recall       0.76          0.66\n",
      "F1           0.80          0.59\n",
      "\n",
      "For threshold = 0.4\n",
      "                 Confusion matrix\n",
      "                 Score positive    Score negative\n",
      "Actual positive       147                65\n",
      "Actual negative        24                64\n",
      "\n",
      "Accuracy  0.70\n",
      " \n",
      "           Positive      Negative\n",
      "Num case      212            88\n",
      "Precision    0.86          0.50\n",
      "Recall       0.69          0.73\n",
      "F1           0.77          0.59\n",
      "\n",
      "For threshold = 0.35\n",
      "                 Confusion matrix\n",
      "                 Score positive    Score negative\n",
      "Actual positive       139                73\n",
      "Actual negative        22                66\n",
      "\n",
      "Accuracy  0.68\n",
      " \n",
      "           Positive      Negative\n",
      "Num case      212            88\n",
      "Precision    0.86          0.47\n",
      "Recall       0.66          0.75\n",
      "F1           0.75          0.58\n",
      "\n",
      "For threshold = 0.3\n",
      "                 Confusion matrix\n",
      "                 Score positive    Score negative\n",
      "Actual positive       126                86\n",
      "Actual negative        19                69\n",
      "\n",
      "Accuracy  0.65\n",
      " \n",
      "           Positive      Negative\n",
      "Num case      212            88\n",
      "Precision    0.87          0.45\n",
      "Recall       0.59          0.78\n",
      "F1           0.71          0.57\n",
      "\n",
      "For threshold = 0.25\n",
      "                 Confusion matrix\n",
      "                 Score positive    Score negative\n",
      "Actual positive       110               102\n",
      "Actual negative        15                73\n",
      "\n",
      "Accuracy  0.61\n",
      " \n",
      "           Positive      Negative\n",
      "Num case      212            88\n",
      "Precision    0.88          0.42\n",
      "Recall       0.52          0.83\n",
      "F1           0.65          0.56\n"
     ]
    }
   ],
   "source": [
    "def test_threshold(probs, labels, threshold):\n",
    "    scores = score_model(probs, threshold)\n",
    "    print('')\n",
    "    print('For threshold = ' + str(threshold))\n",
    "    print_metrics(labels, scores)\n",
    "\n",
    "thresholds = [0.45, 0.40, 0.35, 0.3, 0.25]\n",
    "for t in thresholds:\n",
    "    test_threshold(probabilities, y_test, t)"
   ]
  },
  {
   "cell_type": "code",
   "execution_count": null,
   "metadata": {},
   "outputs": [],
   "source": []
  }
 ],
 "metadata": {
  "kernelspec": {
   "display_name": "Python 3",
   "language": "python",
   "name": "python3"
  },
  "language_info": {
   "codemirror_mode": {
    "name": "ipython",
    "version": 3
   },
   "file_extension": ".py",
   "mimetype": "text/x-python",
   "name": "python",
   "nbconvert_exporter": "python",
   "pygments_lexer": "ipython3",
   "version": "3.7.4"
  }
 },
 "nbformat": 4,
 "nbformat_minor": 4
}
